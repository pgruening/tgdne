{
 "cells": [
  {
   "cell_type": "code",
   "execution_count": null,
   "metadata": {},
   "outputs": [],
   "source": [
    "from bs4 import BeautifulSoup\n",
    "import requests\n",
    "from os.path import join, basename, splitext\n",
    "import re\n",
    "import json\n",
    "from tqdm import tqdm"
   ]
  },
  {
   "cell_type": "code",
   "execution_count": null,
   "metadata": {},
   "outputs": [],
   "source": [
    "url = \"https://www.musik-produktiv.de/e-gitarre/\"\n",
    "headers = {\n",
    "    'User-Agent': 'Mozilla/5.0 (Macintosh; Intel Mac OS X 10_11_5) AppleWebKit/537.36 (KHTML, like Gecko) Chrome/50.0.2661.102 Safari/537.36'}\n",
    "page = requests.get(url, headers=headers)\n",
    "soup = BeautifulSoup(page.content, 'html.parser')\n"
   ]
  },
  {
   "cell_type": "code",
   "execution_count": null,
   "metadata": {},
   "outputs": [],
   "source": [
    "soup.find(\"div\", class_=\"list_page\").find_all(\"a\")[-1].text"
   ]
  },
  {
   "cell_type": "code",
   "execution_count": null,
   "metadata": {},
   "outputs": [],
   "source": [
    "def download_image(guitar_url,data_id, headers):\n",
    "    ext = splitext(basename(guitar_url))[-1]\n",
    "    filepath = join(\"guitar_images\",data_id + ext)\n",
    "\n",
    "    img_data = requests.get(url=guitar_url, headers=headers).content\n",
    "    with open(filepath, 'wb') as handler:\n",
    "        handler.write(img_data)\n",
    "\n",
    "def store_attributes(page, data_id):\n",
    "    attribute_list = page.find(\"ul\", class_=\"eigenschaften\")\n",
    "    attributes = [x.text for x in attribute_list.find_all(\"li\")]\n",
    "    filepath = join(\"guitar_attributes\",data_id + '.txt')\n",
    "    with open(filepath, 'w') as file:\n",
    "        [file.write(x+'\\n') for x in attributes]\n",
    "\n",
    "def store_description(page, data_id):\n",
    "    description = page.find(\"div\", class_=\"product-description\")\n",
    "    filepath = join(\"guitar_description\",data_id + '.txt')\n",
    "    with open(filepath, 'w') as file:\n",
    "        file.write(description)\n",
    "\n",
    "def get_id(g_url):\n",
    "    return g_url.split('/')[-1].replace(\".html\", \"\")\n",
    "\n",
    "def store_reviews(page, data_id):\n",
    "    reviews = page.find_all(\"div\", class_=\"review\")\n",
    "    out = [read_review(x) for x in reviews]\n",
    "    with open(join(\"guitar_reviews\",data_id+'.json'), 'w') as file:\n",
    "        json.dump(out,file)\n",
    "\n",
    "def read_review(rev_item):\n",
    "    out = {}\n",
    "    rgx = 'width: (\\d+)%'\n",
    "    _, keys_, title, user, text, _ = rev_item.text.split('\\n')\n",
    "\n",
    "    out.update({\n",
    "        \"title\":title,\n",
    "        \"text\":text\n",
    "    })\n",
    "\n",
    "    stars_ = rev_item.find_all(\"span\",class_=\"mp-stars\")\n",
    "    # \"width: 100%\" -> 100 -> 100/20 -> 5 stars\n",
    "    keys_ = [x for x in keys_.split(\" \") if x != \"\"]\n",
    "    assert len(keys_) == len(stars_)\n",
    "    for key,star in zip(keys_,stars_):\n",
    "        num_stars = int(re.match(rgx, star.find(\"span\")['style']).group(1))/20\n",
    "        out[key] = num_stars\n",
    "\n",
    "    return out"
   ]
  },
  {
   "cell_type": "code",
   "execution_count": null,
   "metadata": {},
   "outputs": [],
   "source": [
    "grid = soup.find(\"ul\", class_=\"artgrid clearfix col-4\")\n",
    "guitar_urls = [ x.a['href'] for x in grid.find_all(\"li\")]"
   ]
  },
  {
   "cell_type": "code",
   "execution_count": null,
   "metadata": {},
   "outputs": [],
   "source": [
    "for g_url in tqdm(guitar_urls):\n",
    "    data_id = get_id(g_url)\n",
    "    tmp_page = requests.get(g_url, data_id, headers=headers)\n",
    "    tmp_page = BeautifulSoup(tmp_page.content, 'html.parser')\n",
    "    image_url = tmp_page.find(id=\"zoom\")['href']\n",
    "    download_image(image_url, data_id, headers)\n",
    "    store_attributes(tmp_page, data_id)\n",
    "    store_reviews(tmp_page, data_id)\n",
    "    break\n",
    "    "
   ]
  }
 ],
 "metadata": {
  "kernelspec": {
   "display_name": "tgdne",
   "language": "python",
   "name": "python3"
  },
  "language_info": {
   "codemirror_mode": {
    "name": "ipython",
    "version": 3
   },
   "file_extension": ".py",
   "mimetype": "text/x-python",
   "name": "python",
   "nbconvert_exporter": "python",
   "pygments_lexer": "ipython3",
   "version": "3.8.10"
  },
  "orig_nbformat": 4
 },
 "nbformat": 4,
 "nbformat_minor": 2
}
